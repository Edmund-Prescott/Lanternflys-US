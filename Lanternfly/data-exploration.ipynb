{
 "cells": [
  {
   "cell_type": "markdown",
   "metadata": {},
   "source": [
    "<b>Citation:\n",
    "<b>Ieco Lab. \"Lydemap Data.\" *GitHub*, 2024, https://github.com/ieco-lab/lydemapr. Accessed 6 Mar. 2024.\n"
   ]
  },
  {
   "cell_type": "markdown",
   "metadata": {},
   "source": [
    "<b><h1>Lanternfly Data Exploration"
   ]
  },
  {
   "cell_type": "code",
   "execution_count": 1,
   "metadata": {},
   "outputs": [],
   "source": [
    "import pandas as pd"
   ]
  },
  {
   "cell_type": "markdown",
   "metadata": {},
   "source": [
    "<B><h1>Data Preview\n"
   ]
  },
  {
   "cell_type": "code",
   "execution_count": 2,
   "metadata": {},
   "outputs": [
    {
     "name": "stderr",
     "output_type": "stream",
     "text": [
      "C:\\Users\\edmun\\AppData\\Local\\Temp\\ipykernel_1128\\1068893254.py:5: DtypeWarning: Columns (8) have mixed types. Specify dtype option on import or set low_memory=False.\n",
      "  df = pd.read_csv(file_path+lyde_data)\n"
     ]
    },
    {
     "name": "stdout",
     "output_type": "stream",
     "text": [
      "  source         survey  year  bio_year  latitude  longitude state  \\\n",
      "0   inat  iNAT_20211217  2015      2015      40.4      -75.7    PA   \n",
      "1   inat  iNAT_20211217  2016      2016      40.3      -75.6    PA   \n",
      "2   inat  iNAT_20211217  2016      2016      40.4      -75.5    PA   \n",
      "3   inat  iNAT_20211217  2016      2016      40.4      -75.6    PA   \n",
      "4   inat  iNAT_20211217  2016      2016      40.4      -75.7    PA   \n",
      "\n",
      "   lyde_present lyde_established lyde_density source_agency  \\\n",
      "0          True            False  Unpopulated   iNaturalist   \n",
      "1          True            False  Unpopulated   iNaturalist   \n",
      "2          True            False  Unpopulated   iNaturalist   \n",
      "3          True            False  Unpopulated   iNaturalist   \n",
      "4          True            False  Unpopulated   iNaturalist   \n",
      "\n",
      "      collection_method                               pointID  \\\n",
      "0  individual_reporting  72892f21-05ec-4d4b-a101-b6da639d33d8   \n",
      "1  individual_reporting  7ff23a50-bcb8-4513-9201-fda487c74195   \n",
      "2  individual_reporting  fd5f82e2-34d1-4c34-b60b-1bd2869b4b9e   \n",
      "3  individual_reporting  2e93e42f-2b12-47e3-bb22-bbb928400eb1   \n",
      "4  individual_reporting  23ca345d-d6f9-427a-855b-f60331a5c6c4   \n",
      "\n",
      "   rounded_longitude_10k  rounded_latitude_10k  \n",
      "0             -75.647059              40.45045  \n",
      "1             -75.647059              40.36036  \n",
      "2             -75.529412              40.36036  \n",
      "3             -75.647059              40.36036  \n",
      "4             -75.764706              40.36036  \n"
     ]
    }
   ],
   "source": [
    "file_path = \"C:\\\\Users\\\\edmun\\\\Documents\\\\Local Datasets\\\\\"\n",
    "\n",
    "lyde_data = \"lyde.csv\"\n",
    "\n",
    "df = pd.read_csv(file_path+lyde_data)\n",
    "\n",
    "print(df.head())"
   ]
  },
  {
   "cell_type": "markdown",
   "metadata": {},
   "source": [
    "<B>Lyde Level Values"
   ]
  },
  {
   "cell_type": "code",
   "execution_count": 3,
   "metadata": {},
   "outputs": [
    {
     "name": "stdout",
     "output_type": "stream",
     "text": [
      "['Unpopulated' 'Low' 'High' 'Medium' nan]\n"
     ]
    }
   ],
   "source": [
    "unique_lyde_density_values = df['lyde_density'].unique()\n",
    "\n",
    "print(unique_lyde_density_values)\n"
   ]
  },
  {
   "cell_type": "markdown",
   "metadata": {},
   "source": [
    "<B>Surveyors"
   ]
  },
  {
   "cell_type": "code",
   "execution_count": 4,
   "metadata": {},
   "outputs": [
    {
     "name": "stdout",
     "output_type": "stream",
     "text": [
      "['inat' 'ny' 'PA' 'prt' 'states' 'usda']\n"
     ]
    }
   ],
   "source": [
    "unique_sources = df['source'].unique()\n",
    "\n",
    "print(unique_sources)"
   ]
  },
  {
   "cell_type": "markdown",
   "metadata": {},
   "source": [
    "<B><h1>Detailed Data Preview of Unique Values"
   ]
  },
  {
   "cell_type": "code",
   "execution_count": 5,
   "metadata": {},
   "outputs": [
    {
     "name": "stdout",
     "output_type": "stream",
     "text": [
      "Column 'source':\n",
      "['inat' 'ny' 'PA' 'prt' 'states' 'usda']\n",
      "\n",
      "Column 'survey':\n",
      "['iNAT_20211217' 'iNAT_20231220' 'NYACTIVITY2023_09_15_2023' 'NYVISU2020'\n",
      " 'NYVISU2020_09_21_2020' 'NYVISU2021_17_11_2021' 'BAND2015' 'BAND2016'\n",
      " 'BAND2017' 'BANDPDA2018' 'BANDPDA2019' 'BANDPDA2020' 'BANDVOL2018'\n",
      " 'BANDVOL2019' 'BANDVOL2021' 'CIRCLE2021' 'CIRCLE2022' 'GRAPE2015'\n",
      " 'GRAPE2016' 'GRAPE2017' 'GRAPE2018' 'GRAPE2019' 'GRAPE2020' 'GRAPE2022'\n",
      " 'GRAPESLF2021' 'GRAPESLF2022' 'LYCO2014' 'LYCO2015' 'LYCO2016' 'LYCO2017'\n",
      " 'LYCO2018' 'LYCO2019' 'LYCO2020' 'LYCO2021' 'LYCO2022' 'SCRAPE2021'\n",
      " 'SCRAPE2022' 'SCRAPEPDA2015' 'SCRAPEPDA2016' 'SCRAPEPDA2017'\n",
      " 'SCRAPEPDA2018' 'SCRAPEPDA2019' 'SCRAPEVOL2019' 'SCRAPEVOL2020'\n",
      " 'NJPRT2021' 'NJPRT2022' 'PAPRT2021' 'PAPRT2022' 'PAPRT2023' 'DELYCO2018'\n",
      " 'INEVAL2018' 'INEVAL2019' 'INEVAL2020' 'INPATH2019' 'INPATH2020'\n",
      " 'INTREAT2021_20211117' 'INVINE2019' 'INVINE2020' 'MD2019' 'VATRAP2018'\n",
      " 'VATRAP2019' 'VAVTCE2019' 'VAVTCE2020_7_15_2020' 'USDA2020'\n",
      " 'USDACOMB2020' 'USDACOMB2020_27_01_2020' 'USDACOMB2021_17_11_2021'\n",
      " 'USDACOMB2021_26_05_2021' 'USDACOMB2023_04_12_2023']\n",
      "\n",
      "Column 'year':\n",
      "[2015 2016 2017 2018 2019 2020 2021 2014 2022 2023]\n",
      "\n",
      "Column 'bio_year':\n",
      "[2015 2016 2017 2018 2019 2020 2021 2014 2022]\n",
      "\n",
      "Column 'latitude':\n",
      "[40.4 40.3 40.5 40.6 40.1 40.2 40.9 39.  39.2 39.8 39.9 40.  40.7 40.8\n",
      " 41.2 38.8 39.6 39.7 41.  41.1 41.3 41.4 38.9 39.1 39.5 42.  42.1 42.2\n",
      " 36.4 37.4 37.6 38.1 38.5 39.3 39.4 41.5 42.5 43.3 43.6 43.8 30.3 42.3\n",
      " 35.8 33.1 36.1 36.7 37.1 37.3 37.5 38.  38.4 38.6 38.7 41.6 41.7 41.8\n",
      " 41.9 42.6 42.9 43.2 44.6 42.4 42.7 42.8 43.  43.1 43.4 43.5 44.2 38.2\n",
      " 38.3 37.9 36.8 37.2 36.6 37.7 37.8 37.  36.9 44.  44.3 44.7 34.2 34.3\n",
      " 34.4 34.5 34.6 34.7 34.8 34.9 35.  35.1 35.2 35.3 35.4 35.5 35.6 35.7\n",
      " 35.9 36.  36.2 36.3 36.5 44.4 32.2 32.3 32.4 33.  33.2 45.3 45.4 45.5\n",
      " 45.6 45.7 33.6 31.3 32.7 33.4 33.3 31.4 31.5 31.6 31.7 31.9 32.  33.5\n",
      " 33.8 32.1 32.8 32.9 33.7 33.9 34.  34.1 43.9 44.1 44.5 32.6 43.7 44.8\n",
      " 44.9 45.  29.5 29.8 30.2]\n",
      "\n",
      "Column 'longitude':\n",
      "[ -75.7  -75.6  -75.5  -75.4  -75.8  -76.   -76.4  -75.3  -75.9  -74.8\n",
      "  -78.2  -76.2  -75.1  -75.2  -75.   -76.3  -76.1  -77.1  -80.   -74.9\n",
      "  -77.8  -78.1  -74.6  -76.5  -76.6  -76.8  -74.7  -76.9  -76.7  -73.8\n",
      "  -74.   -74.1  -74.2  -74.4  -77.7  -74.3  -74.5  -79.9 -111.3  -73.9\n",
      "  -73.1  -73.6  -77.2  -77.   -71.5  -71.2  -83.2  -77.3  -79.2  -77.5\n",
      "  -78.4  -77.6  -78.   -78.3  -79.7  -79.8  -78.8  -80.1  -80.2  -73.7\n",
      "  -80.4  -73.2  -73.5  -77.9  -73.3  -73.   -70.6  -72.4  -72.3  -87.4\n",
      "  -71.7  -86.6 -117.1  -79.6  -80.6  -79.1  -78.7  -78.5  -78.9  -78.6\n",
      "  -77.4  -84.6  -83.   -79.4  -79.5  -80.3  -73.4  -85.5  -81.6  -80.5\n",
      "  -72.5  -81.8  -81.7  -72.7  -83.5  -72.6  -71.8  -70.2  -71.1  -79.\n",
      "  -72.9  -72.8  -79.3  -72.2  -87.   -86.9  -86.1  -87.1  -85.1  -86.5\n",
      "  -85.4  -86.2  -85.3  -85.2  -87.3  -87.2  -86.7  -86.8  -85.6  -86.\n",
      "  -85.   -85.7  -85.8  -87.5  -86.4  -87.6  -85.9  -84.9  -86.3  -84.8\n",
      "  -80.8  -81.2  -82.6  -83.6  -81.1  -82.1  -81.9  -80.9  -80.7  -81.5\n",
      "  -81.   -82.7  -82.8  -83.1  -82.9  -81.4  -82.   -82.3  -82.5  -82.4\n",
      "  -81.3  -83.8  -83.3  -83.4  -82.2  -83.9 -106.8 -106.6 -106.  -111.7\n",
      " -112.8 -112.7 -111.5 -111.8 -111.4 -113.2 -113.1 -111.9 -112.5 -112.4\n",
      "  -84.5  -84.4  -72.1  -70.7  -71.   -71.4  -71.3  -71.6  -71.9 -123.3\n",
      " -122.6 -122.4 -122.5 -122.9 -122.8 -122.7 -121.2 -121.1 -121.3 -121.9\n",
      " -121.4 -121.8 -121.5 -121.6 -111.  -110.9 -109.1 -110.8  -91.8  -91.4\n",
      "  -92.2  -92.6  -92.8  -93.2  -93.3  -92.   -92.3  -91.9  -92.1  -72.\n",
      " -107.  -111.1 -112.2 -112.3 -112.  -112.1  -90.5  -90.8  -90.3  -90.4\n",
      "  -90.6 -109.9 -110.3 -110.1 -110.2  -84.1  -84.3  -83.7  -84.   -84.7\n",
      "  -84.2 -106.7 -108.5 -109.8 -108.7 -107.1 -107.2 -108.3 -107.3 -109.7\n",
      " -108.6 -108.9 -111.2 -112.9  -87.7  -95.2 -101.1 -101.2 -101.   -70.8\n",
      "  -70.9  -69.6  -70.1  -69.7  -69.5  -69.1  -69.   -68.9  -70.4 -110.7\n",
      " -109.3 -114.  -114.1 -106.1  -69.8  -70.   -69.3  -69.4  -69.2  -68.6\n",
      "  -68.4  -68.7  -68.8  -68.1  -68.3  -68.   -68.2  -68.5 -123.  -123.1\n",
      "  -98.4  -95.7  -95.6  -97.7  -97.6]\n",
      "\n",
      "Column 'state':\n",
      "['PA' 'NJ' 'VA' 'DE' 'MD' 'NY' 'UT' 'MA' 'MI' 'NC' 'WV' 'CT' 'VT' 'FL'\n",
      " 'DC' 'TN' 'CA' 'OH' 'IN' 'NH' 'ME' 'KY' 'SC' 'NM' 'AZ' 'RI' 'OR' 'MO'\n",
      " 'KS' 'TX']\n",
      "\n",
      "Column 'lyde_present':\n",
      "[ True False]\n",
      "\n",
      "Column 'lyde_established':\n",
      "[False True nan]\n",
      "\n",
      "Column 'lyde_density':\n",
      "['Unpopulated' 'Low' 'High' 'Medium' nan]\n",
      "\n",
      "Column 'source_agency':\n",
      "['iNaturalist' 'Unassigned' 'PDA' 'NJDA_Public_reporting'\n",
      " 'PDA_Public_reporting' 'DDA' 'ISDA' 'MDA' 'VDA' 'VA_Tech_Coop_Ext' 'USDA']\n",
      "\n",
      "Column 'collection_method':\n",
      "['individual_reporting' 'field_survey/management']\n",
      "\n",
      "Column 'pointID':\n",
      "['72892f21-05ec-4d4b-a101-b6da639d33d8'\n",
      " '7ff23a50-bcb8-4513-9201-fda487c74195'\n",
      " 'fd5f82e2-34d1-4c34-b60b-1bd2869b4b9e' ...\n",
      " 'cadb6f41-f819-44ed-b7cf-21895e4186c7'\n",
      " 'e0b91e83-420a-4b2f-8c7a-dfb34db65a2f'\n",
      " '183fa06a-cafc-4e9f-b3a9-a492219ff5ba']\n",
      "\n",
      "Column 'rounded_longitude_10k':\n",
      "[ -75.64705882  -75.52941176  -75.76470588  -75.41176471  -75.88235294\n",
      "  -76.          -76.47058824  -75.29411765  -74.82352941  -78.11764706\n",
      "  -76.23529412  -75.17647059  -75.05882353  -76.11764706  -76.35294118\n",
      "  -77.17647059  -80.          -74.94117647  -77.88235294  -74.58823529\n",
      "  -76.58823529  -76.70588235  -74.70588235  -76.82352941  -73.76470588\n",
      "  -74.          -74.11764706  -74.47058824  -78.23529412  -77.76470588\n",
      "  -74.23529412  -74.35294118  -76.94117647  -79.88235294 -111.29411765\n",
      "  -73.05882353  -73.64705882  -73.88235294  -77.05882353  -71.52941176\n",
      "  -71.17647059  -83.17647059  -77.29411765  -79.17647059  -77.52941176\n",
      "  -78.47058824  -77.64705882  -78.35294118  -78.          -79.64705882\n",
      "  -79.76470588  -78.82352941  -80.11764706  -80.23529412  -80.35294118\n",
      "  -73.52941176  -73.17647059  -73.29411765  -70.58823529  -72.47058824\n",
      "  -72.35294118  -87.41176471  -71.76470588  -86.70588235 -117.17647059\n",
      "  -80.58823529  -78.70588235  -78.58823529  -77.41176471  -84.58823529\n",
      "  -78.94117647  -83.05882353  -82.94117647  -79.41176471  -79.52941176\n",
      "  -79.29411765  -73.41176471  -85.52941176  -81.64705882  -80.47058824\n",
      "  -72.94117647  -81.76470588  -72.70588235  -83.52941176  -72.58823529\n",
      "  -70.23529412  -71.05882353  -79.05882353  -72.82352941  -72.23529412\n",
      "  -86.58823529  -86.94117647  -86.11764706  -87.17647059  -87.05882353\n",
      "  -85.17647059  -86.47058824  -85.41176471  -86.23529412  -85.29411765\n",
      "  -87.29411765  -86.82352941  -85.64705882  -86.          -84.94117647\n",
      "  -85.76470588  -87.52941176  -85.05882353  -85.88235294  -84.82352941\n",
      "  -80.70588235  -81.17647059  -82.58823529  -83.64705882  -82.11764706\n",
      "  -81.88235294  -80.94117647  -81.52941176  -81.05882353  -82.70588235\n",
      "  -82.82352941  -80.82352941  -81.41176471  -82.          -82.35294118\n",
      "  -82.47058824  -81.29411765  -83.88235294  -83.76470588  -83.29411765\n",
      "  -83.41176471  -82.23529412 -106.70588235 -106.82352941 -106.58823529\n",
      " -106.         -111.64705882 -112.70588235 -111.41176471 -111.52941176\n",
      " -111.76470588 -111.88235294 -113.17647059 -112.47058824  -84.47058824\n",
      "  -84.35294118  -72.11764706  -70.70588235  -70.94117647  -71.41176471\n",
      "  -71.29411765  -71.64705882  -71.88235294 -123.29411765 -122.58823529\n",
      " -122.35294118 -122.47058824 -122.94117647 -122.82352941 -122.70588235\n",
      " -121.17647059 -121.29411765 -121.88235294 -121.41176471 -121.76470588\n",
      " -121.52941176 -110.94117647 -109.05882353 -110.82352941  -91.76470588\n",
      "  -91.41176471  -92.23529412  -92.58823529  -92.82352941  -93.17647059\n",
      "  -93.29411765  -92.          -92.35294118  -91.88235294  -92.11764706\n",
      "  -72.         -107.05882353 -111.05882353 -111.17647059 -112.23529412\n",
      " -112.35294118 -112.         -112.11764706  -90.58823529  -90.82352941\n",
      "  -90.23529412  -90.35294118  -90.47058824 -109.88235294 -110.\n",
      " -110.23529412 -110.35294118  -84.11764706  -84.          -84.70588235\n",
      " -110.70588235 -108.58823529 -108.70588235 -107.17647059 -108.35294118\n",
      " -107.29411765 -109.76470588 -108.47058824 -108.94117647 -112.94117647\n",
      "  -87.64705882  -95.17647059 -101.05882353 -101.17647059  -84.23529412\n",
      "  -86.35294118  -70.11764706  -69.64705882  -69.52941176  -69.05882353\n",
      "  -68.94117647  -70.35294118 -109.29411765 -114.         -114.11764706\n",
      " -106.11764706  -70.82352941  -69.76470588  -70.          -69.41176471\n",
      "  -69.29411765  -69.17647059  -68.58823529  -68.35294118  -68.70588235\n",
      "  -68.82352941  -68.11764706  -68.          -68.23529412  -68.47058824\n",
      " -123.05882353  -98.35294118  -95.64705882  -97.76470588  -97.64705882]\n",
      "\n",
      "Column 'rounded_latitude_10k':\n",
      "[40.45045045 40.36036036 40.63063063 40.18018018 40.27027027 40.54054054\n",
      " 40.9009009  39.00900901 39.18918919 39.81981982 39.90990991 40.\n",
      " 40.09009009 40.72072072 40.81081081 41.26126126 38.82882883 39.63963964\n",
      " 39.72972973 40.99099099 41.17117117 41.35135135 38.91891892 39.0990991\n",
      " 39.45945946 39.54954955 41.08108108 41.98198198 42.16216216 42.25225225\n",
      " 36.3963964  37.38738739 37.56756757 38.10810811 38.55855856 39.27927928\n",
      " 39.36936937 41.44144144 41.53153153 42.07207207 42.43243243 43.24324324\n",
      " 43.6036036  43.78378378 30.27027027 35.76576577 33.15315315 36.12612613\n",
      " 36.66666667 37.11711712 37.2972973  37.47747748 38.01801802 38.37837838\n",
      " 38.46846847 38.64864865 38.73873874 41.62162162 41.71171171 41.8018018\n",
      " 41.89189189 42.61261261 42.88288288 43.15315315 43.33333333 43.69369369\n",
      " 44.59459459 42.52252252 42.34234234 42.7027027  42.79279279 42.97297297\n",
      " 43.06306306 43.51351351 44.14414414 44.68468468 38.1981982  38.28828829\n",
      " 37.92792793 36.75675676 37.20720721 36.57657658 37.65765766 37.83783784\n",
      " 36.93693694 37.02702703 37.74774775 36.84684685 43.96396396 44.32432432\n",
      " 34.23423423 34.32432432 34.41441441 34.5045045  34.59459459 34.68468468\n",
      " 34.77477477 34.86486486 34.95495495 35.04504505 35.13513514 35.22522523\n",
      " 35.31531532 35.40540541 35.4954955  35.58558559 35.67567568 35.85585586\n",
      " 35.94594595 36.03603604 36.21621622 36.30630631 36.48648649 43.42342342\n",
      " 44.41441441 32.25225225 32.34234234 32.43243243 32.97297297 33.24324324\n",
      " 45.31531532 45.40540541 45.4954955  45.58558559 45.67567568 33.51351351\n",
      " 31.35135135 32.7027027  33.42342342 33.33333333 31.44144144 31.53153153\n",
      " 31.71171171 31.89189189 31.98198198 33.78378378 32.16216216 32.61261261\n",
      " 32.79279279 32.88288288 33.6036036  33.69369369 33.87387387 33.96396396\n",
      " 34.05405405 34.14414414 43.87387387 44.05405405 33.06306306 44.23423423\n",
      " 44.5045045  44.77477477 44.86486486 44.95495495 45.22522523 29.45945946\n",
      " 29.81981982 30.18018018]\n",
      "\n"
     ]
    }
   ],
   "source": [
    "pd.set_option('display.max_rows', None)     # Show all rows\n",
    "pd.set_option('display.max_columns', None)  # Show all columns\n",
    "pd.set_option('display.max_colwidth', None) # Show full content of each cell\n",
    "pd.set_option('display.width', 1000)        # Set display width to avoid line breaks\n",
    "\n",
    "for column in df.columns:\n",
    "    unique_values = df[column].unique()\n",
    "    \n",
    "    print(f\"Column '{column}':\")\n",
    "    \n",
    "    print(unique_values)\n",
    "    print()  "
   ]
  },
  {
   "cell_type": "markdown",
   "metadata": {},
   "source": [
    "<B>Surveys Conducted"
   ]
  },
  {
   "cell_type": "code",
   "execution_count": 6,
   "metadata": {},
   "outputs": [
    {
     "name": "stdout",
     "output_type": "stream",
     "text": [
      "69\n"
     ]
    }
   ],
   "source": [
    "unique_surveys = df['survey'].unique()\n",
    "\n",
    "unique_survey_count = len(unique_surveys)\n",
    "\n",
    "print(unique_survey_count)\n"
   ]
  },
  {
   "cell_type": "markdown",
   "metadata": {},
   "source": [
    "<B>Data Entries From Surveys"
   ]
  },
  {
   "cell_type": "code",
   "execution_count": 7,
   "metadata": {},
   "outputs": [
    {
     "name": "stdout",
     "output_type": "stream",
     "text": [
      "831039\n"
     ]
    }
   ],
   "source": [
    "total_count = df['survey'].size\n",
    "\n",
    "print(total_count)"
   ]
  },
  {
   "cell_type": "markdown",
   "metadata": {},
   "source": [
    "<b> Data Cleaning "
   ]
  },
  {
   "cell_type": "code",
   "execution_count": 8,
   "metadata": {},
   "outputs": [
    {
     "name": "stdout",
     "output_type": "stream",
     "text": [
      "Total rows with NaN in 'lyde_density' column: 80427\n"
     ]
    }
   ],
   "source": [
    "def print_nan_population_rows(row):\n",
    "    \"\"\"\n",
    "    Print each row that has a NaN value in the 'lyde_density' column.\n",
    "    This function is intended to be used with DataFrame.apply().\n",
    "    \"\"\"\n",
    "    if pd.isnull(row['lyde_density']):\n",
    "        return 1\n",
    "    else:\n",
    "        return 0\n",
    "\n",
    "\n",
    "nan_counts = df.apply(print_nan_population_rows, axis=1)\n",
    "\n",
    "total_nan = nan_counts.sum()\n",
    "print(f\"Total rows with NaN in 'lyde_density' column: {total_nan}\")"
   ]
  },
  {
   "cell_type": "markdown",
   "metadata": {},
   "source": [
    "<b>Number of surveys excluding NaN entries"
   ]
  },
  {
   "cell_type": "code",
   "execution_count": 9,
   "metadata": {},
   "outputs": [
    {
     "name": "stdout",
     "output_type": "stream",
     "text": [
      "750612\n"
     ]
    }
   ],
   "source": [
    "print(total_count - total_nan)"
   ]
  },
  {
   "cell_type": "markdown",
   "metadata": {},
   "source": [
    "<h1><b>Rounding the latitude and longitude to enhance performance "
   ]
  },
  {
   "cell_type": "code",
   "execution_count": 10,
   "metadata": {},
   "outputs": [
    {
     "name": "stderr",
     "output_type": "stream",
     "text": [
      "C:\\Users\\edmun\\AppData\\Local\\Temp\\ipykernel_1128\\3585099926.py:1: DtypeWarning: Columns (8) have mixed types. Specify dtype option on import or set low_memory=False.\n",
      "  df = pd.read_csv(file_path + lyde_data)\n"
     ]
    },
    {
     "name": "stdout",
     "output_type": "stream",
     "text": [
      "  source         survey  year  bio_year  latitude  longitude state  lyde_present lyde_established lyde_density source_agency     collection_method                               pointID  rounded_longitude_10k  rounded_latitude_10k\n",
      "0   inat  iNAT_20211217  2015      2015      40.4      -75.7    PA          True            False  Unpopulated   iNaturalist  individual_reporting  72892f21-05ec-4d4b-a101-b6da639d33d8             -75.647059              40.45045\n",
      "1   inat  iNAT_20211217  2016      2016      40.3      -75.6    PA          True            False  Unpopulated   iNaturalist  individual_reporting  7ff23a50-bcb8-4513-9201-fda487c74195             -75.647059              40.36036\n",
      "2   inat  iNAT_20211217  2016      2016      40.4      -75.5    PA          True            False  Unpopulated   iNaturalist  individual_reporting  fd5f82e2-34d1-4c34-b60b-1bd2869b4b9e             -75.529412              40.36036\n",
      "3   inat  iNAT_20211217  2016      2016      40.4      -75.6    PA          True            False  Unpopulated   iNaturalist  individual_reporting  2e93e42f-2b12-47e3-bb22-bbb928400eb1             -75.647059              40.36036\n",
      "4   inat  iNAT_20211217  2016      2016      40.4      -75.7    PA          True            False  Unpopulated   iNaturalist  individual_reporting  23ca345d-d6f9-427a-855b-f60331a5c6c4             -75.764706              40.36036\n"
     ]
    }
   ],
   "source": [
    "df = pd.read_csv(file_path + lyde_data)\n",
    "\n",
    "# Round latitude and longitude to the nearest tenth\n",
    "df['latitude'] = df['latitude'].round(1)\n",
    "df['longitude'] = df['longitude'].round(1)\n",
    "\n",
    "print(df.head())\n",
    "output_file_path = 'C://Users//edmun//Documents//Local Datasets//lyde.csv'\n",
    "df.to_csv(output_file_path, index=False)"
   ]
  }
 ],
 "metadata": {
  "kernelspec": {
   "display_name": "venv",
   "language": "python",
   "name": "python3"
  },
  "language_info": {
   "codemirror_mode": {
    "name": "ipython",
    "version": 3
   },
   "file_extension": ".py",
   "mimetype": "text/x-python",
   "name": "python",
   "nbconvert_exporter": "python",
   "pygments_lexer": "ipython3",
   "version": "3.11.9"
  }
 },
 "nbformat": 4,
 "nbformat_minor": 2
}
